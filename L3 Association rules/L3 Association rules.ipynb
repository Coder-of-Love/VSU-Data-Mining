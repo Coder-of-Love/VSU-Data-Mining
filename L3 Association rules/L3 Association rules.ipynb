{
 "cells": [
  {
   "cell_type": "code",
   "execution_count": 1,
   "metadata": {},
   "outputs": [],
   "source": [
    "import pandas as pd\n",
    "from matplotlib import pyplot as plt\n",
    "from sklearn import preprocessing\n",
    "from apyori import apriori"
   ]
  },
  {
   "cell_type": "code",
   "execution_count": 2,
   "metadata": {},
   "outputs": [
    {
     "data": {
      "text/html": [
       "<div>\n",
       "<style scoped>\n",
       "    .dataframe tbody tr th:only-of-type {\n",
       "        vertical-align: middle;\n",
       "    }\n",
       "\n",
       "    .dataframe tbody tr th {\n",
       "        vertical-align: top;\n",
       "    }\n",
       "\n",
       "    .dataframe thead th {\n",
       "        text-align: right;\n",
       "    }\n",
       "</style>\n",
       "<table border=\"1\" class=\"dataframe\">\n",
       "  <thead>\n",
       "    <tr style=\"text-align: right;\">\n",
       "      <th></th>\n",
       "      <th>Номер заказа</th>\n",
       "      <th>Категория</th>\n",
       "      <th>Товар</th>\n",
       "      <th>Цена</th>\n",
       "    </tr>\n",
       "  </thead>\n",
       "  <tbody>\n",
       "    <tr>\n",
       "      <th>0</th>\n",
       "      <td>SO61269</td>\n",
       "      <td>Шлемы</td>\n",
       "      <td>Sport-100</td>\n",
       "      <td>53.99</td>\n",
       "    </tr>\n",
       "    <tr>\n",
       "      <th>1</th>\n",
       "      <td>SO61269</td>\n",
       "      <td>Трикотажные изделия</td>\n",
       "      <td>Куртка с длинными руковами</td>\n",
       "      <td>49.99</td>\n",
       "    </tr>\n",
       "    <tr>\n",
       "      <th>2</th>\n",
       "      <td>SO61270</td>\n",
       "      <td>Крылья</td>\n",
       "      <td>Набор крыльев для горного велосипеда</td>\n",
       "      <td>21.98</td>\n",
       "    </tr>\n",
       "    <tr>\n",
       "      <th>3</th>\n",
       "      <td>SO61271</td>\n",
       "      <td>Шины и камеры</td>\n",
       "      <td>Шина LL Road</td>\n",
       "      <td>21.49</td>\n",
       "    </tr>\n",
       "    <tr>\n",
       "      <th>4</th>\n",
       "      <td>SO61271</td>\n",
       "      <td>Шины и камеры</td>\n",
       "      <td>Ремонтный комплект</td>\n",
       "      <td>564.99</td>\n",
       "    </tr>\n",
       "  </tbody>\n",
       "</table>\n",
       "</div>"
      ],
      "text/plain": [
       "  Номер заказа            Категория                                 Товар  \\\n",
       "0      SO61269                Шлемы                             Sport-100   \n",
       "1      SO61269  Трикотажные изделия            Куртка с длинными руковами   \n",
       "2      SO61270               Крылья  Набор крыльев для горного велосипеда   \n",
       "3      SO61271        Шины и камеры                          Шина LL Road   \n",
       "4      SO61271        Шины и камеры                    Ремонтный комплект   \n",
       "\n",
       "     Цена  \n",
       "0   53.99  \n",
       "1   49.99  \n",
       "2   21.98  \n",
       "3   21.49  \n",
       "4  564.99  "
      ]
     },
     "execution_count": 2,
     "metadata": {},
     "output_type": "execute_result"
    }
   ],
   "source": [
    "fname = \"Транзакции.xls\"\n",
    "data = pd.read_excel(fname, skiprows=2)\n",
    "data.head()"
   ]
  },
  {
   "cell_type": "code",
   "execution_count": 3,
   "metadata": {},
   "outputs": [],
   "source": [
    "#transactions = [[element for element in transaction if not pd.isnull(element)] for transaction in X.values]\n",
    "transactions = data.groupby('Номер заказа')['Товар'].apply(list).values.tolist()"
   ]
  },
  {
   "cell_type": "code",
   "execution_count": 4,
   "metadata": {},
   "outputs": [
    {
     "name": "stdout",
     "output_type": "stream",
     "text": [
      "31\n",
      "(HL шина для горного велосипеда) ==> (Mountain-200) sup = 0.024, conf = 0.385, lift = 3.409\n",
      "(HL шина для горного велосипеда) ==> (Ремонтный комплект) sup = 0.018, conf = 0.283, lift = 2.013\n",
      "(HL шина для горного велосипеда) ==> (Шина для горного велосипеда) sup = 0.042, conf = 0.676, lift = 4.954\n",
      "(HL шина для дорожн. велосипеда) ==> (Шина для дорожн. велосипеда) sup = 0.025, conf = 0.704, lift = 6.673\n",
      "(LL шина для горного велосипеда) ==> (Шина для горного велосипеда) sup = 0.021, conf = 0.555, lift = 4.065\n",
      "(ML шина для горного велос.) ==> (Ремонтный комплект) sup = 0.015, conf = 0.293, lift = 2.087\n",
      "(ML шина для горного велос.) ==> (Шина для горного велосипеда) sup = 0.033, conf = 0.658, lift = 4.819\n",
      "(ML шина для дорожн. велосипеда) ==> (Шина для дорожн. велосипеда) sup = 0.028, conf = 0.681, lift = 6.454\n",
      "(Mountain-200) ==> (Крепление для бутыкли (горн. вел.)) sup = 0.033, conf = 0.292, lift = 3.172\n",
      "(Mountain-200) ==> (Набор крыльев для горного велосипеда) sup = 0.034, conf = 0.297, lift = 3.134\n",
      "(Road-750) ==> (Бутылка для воды) sup = 0.021, conf = 0.331, lift = 1.728\n",
      "(Road-750) ==> (Крепление для бутылки (дорожн. вел.)) sup = 0.025, conf = 0.385, lift = 4.999\n",
      "(Road-750) ==> (Шина LL Road) sup = 0.014, conf = 0.221, lift = 4.733\n",
      "(Touring-1000) ==> (Крепление для бутылки (дорожн. вел.)) sup = 0.017, conf = 0.266, lift = 3.458\n",
      "(Бутылка для воды) ==> (Крепление для бутыкли (горн. вел.)) sup = 0.076, conf = 0.399, lift = 4.334\n",
      "(Бутылка для воды) ==> (Крепление для бутылки (дорожн. вел.)) sup = 0.069, conf = 0.359, lift = 4.655\n",
      "(Кепка велосипедная) ==> (Куртка с короткими руковами) sup = 0.015, conf = 0.15, lift = 2.119\n",
      "(Крепление для бутыкли (горн. вел.)) ==> (Набор крыльев для горного велосипеда) sup = 0.018, conf = 0.197, lift = 2.08\n",
      "(Ремонтный комплект) ==> (Шина LL Road) sup = 0.016, conf = 0.116, lift = 2.48\n",
      "(Ремонтный комплект) ==> (Шина для горного велосипеда) sup = 0.034, conf = 0.244, lift = 1.784\n",
      "(Ремонтный комплект) ==> (Шина для повседневного велосипеда) sup = 0.018, conf = 0.13, lift = 1.749\n",
      "(Шина LL Road) ==> (Шина для дорожн. велосипеда) sup = 0.026, conf = 0.549, lift = 5.206\n",
      "(Mountain-200, HL шина для горного велосипеда) ==> (Шина для горного велосипеда) sup = 0.016, conf = 0.65, lift = 4.758\n",
      "(Sport-100, HL шина для горного велосипеда) ==> (Шина для горного велосипеда) sup = 0.018, conf = 0.883, lift = 6.463\n",
      "(Sport-100, ML шина для горного велос.) ==> (Шина для горного велосипеда) sup = 0.014, conf = 0.989, lift = 7.245\n",
      "(Бутылка для воды, Mountain-200) ==> (Крепление для бутыкли (горн. вел.)) sup = 0.026, conf = 1.0, lift = 10.866\n",
      "(Бутылка для воды, Road-750) ==> (Крепление для бутылки (дорожн. вел.)) sup = 0.021, conf = 1.0, lift = 12.985\n",
      "(Бутылка для воды, Sport-100) ==> (Крепление для бутыкли (горн. вел.)) sup = 0.022, conf = 0.432, lift = 4.69\n",
      "(Бутылка для воды, Sport-100) ==> (Крепление для бутылки (дорожн. вел.)) sup = 0.017, conf = 0.344, lift = 4.468\n",
      "(Touring-1000, Бутылка для воды) ==> (Крепление для бутылки (дорожн. вел.)) sup = 0.015, conf = 1.0, lift = 12.985\n",
      "(Бутылка для воды, Крепление для бутыкли (горн. вел.)) ==> (Набор крыльев для горного велосипеда) sup = 0.015, conf = 0.194, lift = 2.049\n"
     ]
    }
   ],
   "source": [
    "rules = apriori(transactions=transactions, min_support=0.014, min_confidence=0.1, min_lift=1.7, min_length=3)\n",
    "results = list(rules)\n",
    "\n",
    "print(len(results))\n",
    "for item in results:\n",
    "    pair = item[2][0]\n",
    "    base = [x for x in pair.items_base]\n",
    "    add = [x for x in pair.items_add]\n",
    "    base_str = ', '.join(base)\n",
    "    add_str = ', '.join(add)\n",
    "    print('({}) ==> ({}) sup = {}, conf = {}, lift = {}'.format\n",
    "          (base_str, add_str, str(round(item[1],3)), str(round(item[2][0][2],3)), str(round(item[2][0][3],3))))"
   ]
  },
  {
   "cell_type": "code",
   "execution_count": null,
   "metadata": {},
   "outputs": [],
   "source": []
  }
 ],
 "metadata": {
  "kernelspec": {
   "display_name": "Python 3",
   "language": "python",
   "name": "python3"
  },
  "language_info": {
   "codemirror_mode": {
    "name": "ipython",
    "version": 3
   },
   "file_extension": ".py",
   "mimetype": "text/x-python",
   "name": "python",
   "nbconvert_exporter": "python",
   "pygments_lexer": "ipython3",
   "version": "3.6.1"
  }
 },
 "nbformat": 4,
 "nbformat_minor": 2
}
